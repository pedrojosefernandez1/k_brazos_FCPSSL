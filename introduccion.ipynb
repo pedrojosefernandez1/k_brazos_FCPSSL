{
  "cells": [
    {
      "cell_type": "markdown",
      "id": "0f558eb9",
      "metadata": {
        "colab_type": "text",
        "id": "view-in-github"
      },
      "source": [
        "<a href=\"https://colab.research.google.com/github/pedrojosefernandez1/k_brazos_FCPSSL/blob/main/introduccion.ipynb\" target=\"_parent\"><img src=\"https://colab.research.google.com/assets/colab-badge.svg\" alt=\"Open In Colab\"/></a>"
      ]
    },
    {
      "cell_type": "markdown",
      "id": "e09340d2",
      "metadata": {},
      "source": [
        "# Introducción al Problema del Bandido de K-Brazos\n",
        "\n",
        "Este notebook, **introduccion.ipynb**, proporciona una visión general del problema del **Bandido de K-Brazos**, un escenario fundamental en **aprendizaje por refuerzo** donde un agente debe tomar decisiones secuenciales para maximizar su recompensa. \n",
        "\n",
        "## 📌 Descripción\n",
        "El problema del Bandido de K-Brazos se basa en la idea de seleccionar entre **K opciones** (brazos de una máquina tragamonedas), equilibrando la **exploración** (probar nuevas opciones) y la **explotación** (elegir la mejor opción conocida hasta el momento). Este problema tiene aplicaciones en publicidad online, sistemas de recomendación, ensayos clínicos, entre otros.\n",
        "\n",
        "## 📂 Estructura de los Estudios\n",
        "A continuación, se presentan los distintos enfoques estudiados en esta práctica, cada uno accesible mediante los siguientes notebooks:\n",
        "\n",
        "- **𝜀-Greedy:** El notebook [`epsilonGreedy.ipynb`](epsilonGreedy.ipynb) analiza la estrategia **𝜀-Greedy**, una de las más simples y efectivas en el aprendizaje por refuerzo.\n",
        "- **Método UCB (Upper Confidence Bound):** Se encuentra en [`UCB.ipynb`](UCB.ipynb) y explora estrategias basadas en la confianza optimista en la incertidumbre.\n",
        "- **Métodos Basados en Ascenso de Gradiente:** En [`ascensoGradiente.ipynb`](ascensoGradiente.ipynb), se estudian algoritmos como **Softmax** y **Gradiente de Preferencias**, los cuales ajustan probabilidades de selección mediante aprendizaje adaptativo.\n",
        "\n",
        "\n",
        "Cada uno de estos notebooks contiene experimentos y análisis sobre la efectividad de los distintos métodos. ¡Explora y experimenta con cada uno de ellos! 🚀"
      ]
    }
  ],
  "metadata": {
    "colab": {
      "include_colab_link": true,
      "provenance": []
    },
    "kernelspec": {
      "display_name": ".venv",
      "language": "python",
      "name": "python3"
    },
    "language_info": {
      "codemirror_mode": {
        "name": "ipython",
        "version": 3
      },
      "file_extension": ".py",
      "mimetype": "text/x-python",
      "name": "python",
      "nbconvert_exporter": "python",
      "pygments_lexer": "ipython3",
      "version": "3.12.8"
    }
  },
  "nbformat": 4,
  "nbformat_minor": 5
}
