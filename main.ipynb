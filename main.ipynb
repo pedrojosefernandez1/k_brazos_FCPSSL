{
  "cells": [
    {
      "cell_type": "markdown",
      "metadata": {
        "colab_type": "text",
        "id": "view-in-github"
      },
      "source": [
        "<a href=\"https://colab.research.google.com/github/pedrojosefernandez1/k_brazos_FCPSSL/blob/main/main.ipynb\" target=\"_parent\"><img src=\"https://colab.research.google.com/assets/colab-badge.svg\" alt=\"Open In Colab\"/></a>"
      ]
    },
    {
      "cell_type": "markdown",
      "metadata": {},
      "source": [
        "# Práctica 1: Bandido de K-Brazos\n",
        "\n",
        "Este notebook es el main de la Práctica 1: Bandido de K-Brazos. En este espacio se encuentran las herramientas necesarias para gestionar y ejecutar los distintos experimentos y estudios relacionados con este problema clásico de aprendizaje por refuerzo.\n",
        "\n",
        "## 📌 Descripción\n",
        "\n",
        "El problema del bandido de K-brazos es un escenario de toma de decisiones secuencial en el que un agente debe seleccionar entre K opciones (brazos de la máquina tragamonedas), equilibrando la exploración y la explotación para maximizar la recompensa a lo largo del tiempo.\n",
        "\n",
        "## 📂 Estructura del Notebook\n",
        "\n",
        "Este notebook permite acceder a los distintos estudios realizados dentro del proyecto, proporcionando:\n",
        "\n",
        "- Clonación del repositorio con los archivos necesarios.\n",
        "\n",
        "- Instalación de dependencias automáticamente.\n",
        "\n",
        "- Un menú interactivo para acceder a los distintos notebooks.\n",
        "\n",
        "## 📑 Acceso a los Estudios\n",
        "\n",
        "Desde este notebook, puedes navegar y abrir los notebooks individuales donde se exploran:\n",
        "\n",
        "- Estrategias de selección de acciones (𝜀-greedy, UCB, Softmax, etc.).\n",
        "\n",
        "- Comparaciones de desempeño entre distintos algoritmos.\n",
        "\n",
        "\n",
        "Para acceder a estos notebooks, simplemente selecciona el estudio deseado desde el menú desplegable y ábrelo directamente en Google Colab."
      ]
    },
    {
      "cell_type": "code",
      "execution_count": null,
      "metadata": {},
      "outputs": [],
      "source": [
        "import os\n",
        "import shutil\n",
        "import subprocess\n",
        "import ipywidgets as widgets\n",
        "from IPython.display import display, HTML\n",
        "from urllib.parse import urlparse\n",
        "\n",
        "GITHUB_REPO_URL = \"https://github.com/pedrojosefernandez1/k_brazos_FCPSSL.git\"\n",
        "\n",
        "# Extraer usuario y nombre del repositorio automáticamente\n",
        "def obtener_usuario_y_repo(url):\n",
        "    path = urlparse(url).path.strip('/')\n",
        "    parts = path.split('/')\n",
        "    if len(parts) >= 2:\n",
        "        return parts[0], parts[1]\n",
        "    return None, None\n",
        "\n",
        "GITHUB_USERNAME, GITHUB_REPO_NAME = obtener_usuario_y_repo(GITHUB_REPO_URL)\n",
        "GITHUB_REPO_NAME = GITHUB_REPO_NAME.replace('.git', '')\n",
        "if not GITHUB_USERNAME or not GITHUB_REPO_NAME:\n",
        "    raise ValueError(\"URL del repositorio inválida. Asegúrate de que sea de GitHub y tenga el formato correcto.\")\n",
        "\n",
        "REPO_NAME = GITHUB_REPO_NAME  # Nombre de la carpeta después de clonar\n",
        "\n",
        "# Clonar el repositorio si no existe\n",
        "os.makedirs(REPO_NAME, exist_ok=True)\n",
        "if not os.path.exists(os.path.join(REPO_NAME, \".git\")):\n",
        "    ! git clone {GITHUB_REPO_URL} {REPO_NAME}\n",
        "\n",
        "# Verificar si existe un archivo requirements.txt para instalar dependencias\n",
        "req_file = os.path.join(REPO_NAME, \"requirements.txt\")\n",
        "if os.path.exists(req_file):\n",
        "    ! pip install -r {req_file}"
      ]
    },
    {
      "cell_type": "code",
      "execution_count": null,
      "metadata": {},
      "outputs": [],
      "source": [
        "# Función para listar los notebooks disponibles\n",
        "def listar_notebooks():\n",
        "    notebooks = [f for f in os.listdir(REPO_NAME) if f.endswith(\".ipynb\")]\n",
        "    return notebooks\n",
        "\n",
        "# Crear un widget para navegar entre notebooks\n",
        "display(HTML(\"<h3>Selecciona un notebook para abrir en Google Colab</h3>\"))\n",
        "notebooks = listar_notebooks()\n",
        "if notebooks:\n",
        "    dropdown = widgets.Dropdown(\n",
        "        options=notebooks,\n",
        "        description='Notebooks:',\n",
        "        disabled=False,\n",
        "    )\n",
        "    \n",
        "    def abrir_notebook(btn):\n",
        "        notebook_seleccionado = dropdown.value\n",
        "        if notebook_seleccionado:\n",
        "            colab_url = f\"https://colab.research.google.com/github/{GITHUB_USERNAME}/{GITHUB_REPO_NAME}/blob/main/{notebook_seleccionado}\"\n",
        "            display(HTML(f\"<a href='{colab_url}' target='_blank'><button>🔗 Abrir {notebook_seleccionado} en Colab</button></a>\"))\n",
        "    \n",
        "    boton = widgets.Button(description=\"Abrir Notebook en Colab\")\n",
        "    boton.on_click(abrir_notebook)\n",
        "    \n",
        "    display(dropdown, boton)\n",
        "else:\n",
        "    print(\"No se encontraron notebooks en el repositorio.\")"
      ]
    }
  ],
  "metadata": {
    "colab": {
      "authorship_tag": "ABX9TyNLR3hv/Pt67APT94hqZqJg",
      "include_colab_link": true,
      "provenance": []
    },
    "kernelspec": {
      "display_name": ".venv",
      "language": "python",
      "name": "python3"
    },
    "language_info": {
      "codemirror_mode": {
        "name": "ipython",
        "version": 3
      },
      "file_extension": ".py",
      "mimetype": "text/x-python",
      "name": "python",
      "nbconvert_exporter": "python",
      "pygments_lexer": "ipython3",
      "version": "3.12.8"
    }
  },
  "nbformat": 4,
  "nbformat_minor": 0
}
