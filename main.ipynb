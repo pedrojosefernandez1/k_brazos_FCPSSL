{
  "cells": [
    {
      "cell_type": "markdown",
      "metadata": {
        "colab_type": "text",
        "id": "view-in-github"
      },
      "source": [
        "<a href=\"https://colab.research.google.com/github/pedrojosefernandez1/k_brazos_FCPSSL/blob/main/main.ipynb\" target=\"_parent\"><img src=\"https://colab.research.google.com/assets/colab-badge.svg\" alt=\"Open In Colab\"/></a>"
      ]
    },
    {
      "cell_type": "code",
      "execution_count": null,
      "metadata": {
        "vscode": {
          "languageId": "plaintext"
        }
      },
      "outputs": [],
      "source": [
        "#@title Copiar el repositorio.\n",
        "\n",
        "! git clone https://github.com/pedrojosefernandez1/k_brazos_FCPSSL.git\n",
        "! cd k_brazos_FCPSSL/"
      ]
    },
    {
      "cell_type": "markdown",
      "metadata": {},
      "source": [
        "# Introducción\n",
        "En este repositorio se completará el apartado _Practica 1. Bandido de k-brazos_. Para ello, se deberá continuar al documento [studiesIntroduction.ipynb](./studiesIntroduction.ipynb), en el que se realizará la introducción al problema y se prepararán los experimentos necesarios para dar lugar a los estudios."
      ]
    }
  ],
  "metadata": {
    "colab": {
      "authorship_tag": "ABX9TyNLR3hv/Pt67APT94hqZqJg",
      "include_colab_link": true,
      "provenance": []
    },
    "kernelspec": {
      "display_name": "Python 3",
      "name": "python3"
    },
    "language_info": {
      "name": "python"
    }
  },
  "nbformat": 4,
  "nbformat_minor": 0
}
