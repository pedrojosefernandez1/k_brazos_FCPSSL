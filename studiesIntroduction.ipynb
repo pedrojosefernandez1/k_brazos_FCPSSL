{
  "cells": [
    {
      "cell_type": "markdown",
      "metadata": {
        "colab_type": "text",
        "id": "view-in-github"
      },
      "source": [
        "<a href=\"https://colab.research.google.com/github/pedrojosefernandez1/k_brazos_FCPSSL/blob/main/bandit_experiment.ipynb\" target=\"_parent\"><img src=\"https://colab.research.google.com/assets/colab-badge.svg\" alt=\"Open In Colab\"/></a>"
      ]
    },
    {
      "cell_type": "markdown",
      "id": "45718ddbdacc17ac",
      "metadata": {
        "id": "45718ddbdacc17ac"
      },
      "source": [
        "# Estudio comparativo de diferentes algoritmos en un problema de k-armed bandit\n",
        "\n",
        "En este parte se analizan los algoritmos del bandido de k-brazos, comparando su rendimiento en entornos estacionarios. Para ello se implementan varias familias de métodos: \u000f-greedy, UCB, ascenso del gradiente, evaluando las recompensas y rechazos acumulados. \n",
        "\n",
        "El problema del bandido de k-brazos modela una situación de toma de decisiones secuencial bajo incertidumbre.\n",
        "\n",
        "*Description:* El experimento compara el rendimiento de tres familias de algoritmos en tres problemas diferentes de k-armed bandit, teniendo las familias entre uno y dos algoritmos.\n",
        "Se generán para cada problema 3 gráficas, de recompensas promedio por pasos, de comparación de recompensas promedio por brazo y algoritmo y de arrepentimiento acumilado por pasos. Cada uno de los estudios de familias se realizará en un fichero .ipynb diferente para estructurar el estudio por módulos separados. \n",
        "\n",
        "    Author: Luis Daniel Hernández Molinero\n",
        "    Email: ldaniel@um.es\n",
        "    Date: 2025/01/29\n",
        "\n",
        "This software is licensed under the GNU General Public License v3.0 (GPL-3.0),\n",
        "with the additional restriction that it may not be used for commercial purposes.\n",
        "\n",
        "For more details about GPL-3.0: https://www.gnu.org/licenses/gpl-3.0.html\n",
        "\n"
      ]
    },
    {
      "cell_type": "markdown",
      "id": "7c1697e197fa5a08",
      "metadata": {
        "id": "7c1697e197fa5a08"
      },
      "source": [
        "## Preparación del entorno\n"
      ]
    },
    {
      "cell_type": "markdown",
      "metadata": {},
      "source": [
        "Vamos a preparar el entorno en el que realizaremos los experimentos. Para ello, instalamos las librerias necesarias y establecemos la semilla a utilizar, incluyendo las librerías internas que hemos desarrollado para el estudio."
      ]
    },
    {
      "cell_type": "code",
      "execution_count": null,
      "id": "3332192b",
      "metadata": {},
      "outputs": [
        {
          "name": "stdout",
          "output_type": "stream",
          "text": [
            "Requirement already satisfied: numpy in d:\\oficial\\umu\\master_ia\\temario\\exml\\k_brazos_fcpssl\\.venv\\lib\\site-packages (2.2.3)\n",
            "Requirement already satisfied: typing in d:\\oficial\\umu\\master_ia\\temario\\exml\\k_brazos_fcpssl\\.venv\\lib\\site-packages (3.7.4.3)\n",
            "Requirement already satisfied: seaborn in d:\\oficial\\umu\\master_ia\\temario\\exml\\k_brazos_fcpssl\\.venv\\lib\\site-packages (0.13.2)\n",
            "Requirement already satisfied: nbconvert in d:\\oficial\\umu\\master_ia\\temario\\exml\\k_brazos_fcpssl\\.venv\\lib\\site-packages (7.16.6)\n",
            "Requirement already satisfied: pandas>=1.2 in d:\\oficial\\umu\\master_ia\\temario\\exml\\k_brazos_fcpssl\\.venv\\lib\\site-packages (from seaborn) (2.2.3)\n",
            "Requirement already satisfied: matplotlib!=3.6.1,>=3.4 in d:\\oficial\\umu\\master_ia\\temario\\exml\\k_brazos_fcpssl\\.venv\\lib\\site-packages (from seaborn) (3.10.0)\n",
            "Requirement already satisfied: beautifulsoup4 in d:\\oficial\\umu\\master_ia\\temario\\exml\\k_brazos_fcpssl\\.venv\\lib\\site-packages (from nbconvert) (4.13.3)\n",
            "Requirement already satisfied: bleach!=5.0.0 in d:\\oficial\\umu\\master_ia\\temario\\exml\\k_brazos_fcpssl\\.venv\\lib\\site-packages (from bleach[css]!=5.0.0->nbconvert) (6.2.0)\n",
            "Requirement already satisfied: defusedxml in d:\\oficial\\umu\\master_ia\\temario\\exml\\k_brazos_fcpssl\\.venv\\lib\\site-packages (from nbconvert) (0.7.1)\n",
            "Requirement already satisfied: jinja2>=3.0 in d:\\oficial\\umu\\master_ia\\temario\\exml\\k_brazos_fcpssl\\.venv\\lib\\site-packages (from nbconvert) (3.1.5)\n",
            "Requirement already satisfied: jupyter-core>=4.7 in d:\\oficial\\umu\\master_ia\\temario\\exml\\k_brazos_fcpssl\\.venv\\lib\\site-packages (from nbconvert) (5.7.2)\n",
            "Requirement already satisfied: jupyterlab-pygments in d:\\oficial\\umu\\master_ia\\temario\\exml\\k_brazos_fcpssl\\.venv\\lib\\site-packages (from nbconvert) (0.3.0)\n",
            "Requirement already satisfied: markupsafe>=2.0 in d:\\oficial\\umu\\master_ia\\temario\\exml\\k_brazos_fcpssl\\.venv\\lib\\site-packages (from nbconvert) (3.0.2)\n",
            "Requirement already satisfied: mistune<4,>=2.0.3 in d:\\oficial\\umu\\master_ia\\temario\\exml\\k_brazos_fcpssl\\.venv\\lib\\site-packages (from nbconvert) (3.1.2)\n",
            "Requirement already satisfied: nbclient>=0.5.0 in d:\\oficial\\umu\\master_ia\\temario\\exml\\k_brazos_fcpssl\\.venv\\lib\\site-packages (from nbconvert) (0.10.2)\n",
            "Requirement already satisfied: nbformat>=5.7 in d:\\oficial\\umu\\master_ia\\temario\\exml\\k_brazos_fcpssl\\.venv\\lib\\site-packages (from nbconvert) (5.10.4)\n",
            "Requirement already satisfied: packaging in d:\\oficial\\umu\\master_ia\\temario\\exml\\k_brazos_fcpssl\\.venv\\lib\\site-packages (from nbconvert) (24.2)\n",
            "Requirement already satisfied: pandocfilters>=1.4.1 in d:\\oficial\\umu\\master_ia\\temario\\exml\\k_brazos_fcpssl\\.venv\\lib\\site-packages (from nbconvert) (1.5.1)\n",
            "Requirement already satisfied: pygments>=2.4.1 in d:\\oficial\\umu\\master_ia\\temario\\exml\\k_brazos_fcpssl\\.venv\\lib\\site-packages (from nbconvert) (2.19.1)\n",
            "Requirement already satisfied: traitlets>=5.1 in d:\\oficial\\umu\\master_ia\\temario\\exml\\k_brazos_fcpssl\\.venv\\lib\\site-packages (from nbconvert) (5.14.3)\n",
            "Requirement already satisfied: webencodings in d:\\oficial\\umu\\master_ia\\temario\\exml\\k_brazos_fcpssl\\.venv\\lib\\site-packages (from bleach!=5.0.0->bleach[css]!=5.0.0->nbconvert) (0.5.1)\n",
            "Requirement already satisfied: tinycss2<1.5,>=1.1.0 in d:\\oficial\\umu\\master_ia\\temario\\exml\\k_brazos_fcpssl\\.venv\\lib\\site-packages (from bleach[css]!=5.0.0->nbconvert) (1.4.0)\n",
            "Requirement already satisfied: platformdirs>=2.5 in d:\\oficial\\umu\\master_ia\\temario\\exml\\k_brazos_fcpssl\\.venv\\lib\\site-packages (from jupyter-core>=4.7->nbconvert) (4.3.6)\n",
            "Requirement already satisfied: pywin32>=300 in d:\\oficial\\umu\\master_ia\\temario\\exml\\k_brazos_fcpssl\\.venv\\lib\\site-packages (from jupyter-core>=4.7->nbconvert) (308)\n",
            "Requirement already satisfied: contourpy>=1.0.1 in d:\\oficial\\umu\\master_ia\\temario\\exml\\k_brazos_fcpssl\\.venv\\lib\\site-packages (from matplotlib!=3.6.1,>=3.4->seaborn) (1.3.1)\n",
            "Requirement already satisfied: cycler>=0.10 in d:\\oficial\\umu\\master_ia\\temario\\exml\\k_brazos_fcpssl\\.venv\\lib\\site-packages (from matplotlib!=3.6.1,>=3.4->seaborn) (0.12.1)\n",
            "Requirement already satisfied: fonttools>=4.22.0 in d:\\oficial\\umu\\master_ia\\temario\\exml\\k_brazos_fcpssl\\.venv\\lib\\site-packages (from matplotlib!=3.6.1,>=3.4->seaborn) (4.56.0)\n",
            "Requirement already satisfied: kiwisolver>=1.3.1 in d:\\oficial\\umu\\master_ia\\temario\\exml\\k_brazos_fcpssl\\.venv\\lib\\site-packages (from matplotlib!=3.6.1,>=3.4->seaborn) (1.4.8)\n",
            "Requirement already satisfied: pillow>=8 in d:\\oficial\\umu\\master_ia\\temario\\exml\\k_brazos_fcpssl\\.venv\\lib\\site-packages (from matplotlib!=3.6.1,>=3.4->seaborn) (11.1.0)\n",
            "Requirement already satisfied: pyparsing>=2.3.1 in d:\\oficial\\umu\\master_ia\\temario\\exml\\k_brazos_fcpssl\\.venv\\lib\\site-packages (from matplotlib!=3.6.1,>=3.4->seaborn) (3.2.1)\n",
            "Requirement already satisfied: python-dateutil>=2.7 in d:\\oficial\\umu\\master_ia\\temario\\exml\\k_brazos_fcpssl\\.venv\\lib\\site-packages (from matplotlib!=3.6.1,>=3.4->seaborn) (2.9.0.post0)\n",
            "Requirement already satisfied: jupyter-client>=6.1.12 in d:\\oficial\\umu\\master_ia\\temario\\exml\\k_brazos_fcpssl\\.venv\\lib\\site-packages (from nbclient>=0.5.0->nbconvert) (8.6.3)\n",
            "Requirement already satisfied: fastjsonschema>=2.15 in d:\\oficial\\umu\\master_ia\\temario\\exml\\k_brazos_fcpssl\\.venv\\lib\\site-packages (from nbformat>=5.7->nbconvert) (2.21.1)\n",
            "Requirement already satisfied: jsonschema>=2.6 in d:\\oficial\\umu\\master_ia\\temario\\exml\\k_brazos_fcpssl\\.venv\\lib\\site-packages (from nbformat>=5.7->nbconvert) (4.23.0)\n",
            "Requirement already satisfied: pytz>=2020.1 in d:\\oficial\\umu\\master_ia\\temario\\exml\\k_brazos_fcpssl\\.venv\\lib\\site-packages (from pandas>=1.2->seaborn) (2025.1)\n",
            "Requirement already satisfied: tzdata>=2022.7 in d:\\oficial\\umu\\master_ia\\temario\\exml\\k_brazos_fcpssl\\.venv\\lib\\site-packages (from pandas>=1.2->seaborn) (2025.1)\n",
            "Requirement already satisfied: soupsieve>1.2 in d:\\oficial\\umu\\master_ia\\temario\\exml\\k_brazos_fcpssl\\.venv\\lib\\site-packages (from beautifulsoup4->nbconvert) (2.6)\n",
            "Requirement already satisfied: typing-extensions>=4.0.0 in d:\\oficial\\umu\\master_ia\\temario\\exml\\k_brazos_fcpssl\\.venv\\lib\\site-packages (from beautifulsoup4->nbconvert) (4.12.2)\n",
            "Requirement already satisfied: attrs>=22.2.0 in d:\\oficial\\umu\\master_ia\\temario\\exml\\k_brazos_fcpssl\\.venv\\lib\\site-packages (from jsonschema>=2.6->nbformat>=5.7->nbconvert) (25.1.0)\n",
            "Requirement already satisfied: jsonschema-specifications>=2023.03.6 in d:\\oficial\\umu\\master_ia\\temario\\exml\\k_brazos_fcpssl\\.venv\\lib\\site-packages (from jsonschema>=2.6->nbformat>=5.7->nbconvert) (2024.10.1)\n",
            "Requirement already satisfied: referencing>=0.28.4 in d:\\oficial\\umu\\master_ia\\temario\\exml\\k_brazos_fcpssl\\.venv\\lib\\site-packages (from jsonschema>=2.6->nbformat>=5.7->nbconvert) (0.36.2)\n",
            "Requirement already satisfied: rpds-py>=0.7.1 in d:\\oficial\\umu\\master_ia\\temario\\exml\\k_brazos_fcpssl\\.venv\\lib\\site-packages (from jsonschema>=2.6->nbformat>=5.7->nbconvert) (0.23.1)\n",
            "Requirement already satisfied: pyzmq>=23.0 in d:\\oficial\\umu\\master_ia\\temario\\exml\\k_brazos_fcpssl\\.venv\\lib\\site-packages (from jupyter-client>=6.1.12->nbclient>=0.5.0->nbconvert) (26.2.1)\n",
            "Requirement already satisfied: tornado>=6.2 in d:\\oficial\\umu\\master_ia\\temario\\exml\\k_brazos_fcpssl\\.venv\\lib\\site-packages (from jupyter-client>=6.1.12->nbclient>=0.5.0->nbconvert) (6.4.2)\n",
            "Requirement already satisfied: six>=1.5 in d:\\oficial\\umu\\master_ia\\temario\\exml\\k_brazos_fcpssl\\.venv\\lib\\site-packages (from python-dateutil>=2.7->matplotlib!=3.6.1,>=3.4->seaborn) (1.17.0)\n",
            "['C:\\\\Program Files\\\\WindowsApps\\\\PythonSoftwareFoundation.Python.3.12_3.12.2544.0_x64__qbz5n2kfra8p0\\\\python312.zip', 'C:\\\\Program Files\\\\WindowsApps\\\\PythonSoftwareFoundation.Python.3.12_3.12.2544.0_x64__qbz5n2kfra8p0\\\\DLLs', 'C:\\\\Program Files\\\\WindowsApps\\\\PythonSoftwareFoundation.Python.3.12_3.12.2544.0_x64__qbz5n2kfra8p0\\\\Lib', 'C:\\\\Program Files\\\\WindowsApps\\\\PythonSoftwareFoundation.Python.3.12_3.12.2544.0_x64__qbz5n2kfra8p0', 'd:\\\\Oficial\\\\UMU\\\\Master_IA\\\\Temario\\\\EXML\\\\k_brazos_FCPSSL\\\\.venv', '', 'd:\\\\Oficial\\\\UMU\\\\Master_IA\\\\Temario\\\\EXML\\\\k_brazos_FCPSSL\\\\.venv\\\\Lib\\\\site-packages', 'd:\\\\Oficial\\\\UMU\\\\Master_IA\\\\Temario\\\\EXML\\\\k_brazos_FCPSSL\\\\.venv\\\\Lib\\\\site-packages\\\\win32', 'd:\\\\Oficial\\\\UMU\\\\Master_IA\\\\Temario\\\\EXML\\\\k_brazos_FCPSSL\\\\.venv\\\\Lib\\\\site-packages\\\\win32\\\\lib', 'd:\\\\Oficial\\\\UMU\\\\Master_IA\\\\Temario\\\\EXML\\\\k_brazos_FCPSSL\\\\.venv\\\\Lib\\\\site-packages\\\\Pythonwin', 'src']\n"
          ]
        }
      ],
      "source": [
        "! git clone https://github.com/pedrojosefernandez1/k_brazos_FCPSSL.git\n",
        "! cd k_brazos_FCPSSL/\n",
        "\n",
        "! pip install -r k_brazos_FCPSSL/requirements.txt\n",
        "\n",
        "\n",
        "#@title Importamos todas las clases y funciones\n",
        "\n",
        "import sys\n",
        "\n",
        "# Añadir los directorio fuentes al path de Python\n",
        "#sys.path.append('/content/k_brazos_FCPSSL/src')\n",
        "sys.path.append('src')\n",
        "\n",
        "# Verificar que se han añadido correctamente\n",
        "print(sys.path)\n",
        "\n",
        "import numpy as np\n",
        "from typing import List\n",
        "\n",
        "from algorithms import Algorithm\n",
        "from arms import ArmNormal, Bandit, ArmBernoulli, ArmBinomial\n",
        "\n",
        "# Fijamos la semilla para reproducibilidad\n",
        "seed = 42\n",
        "np.random.seed(seed)  "
      ]
    },
    {
      "cell_type": "markdown",
      "id": "4e67de1a19a3698f",
      "metadata": {
        "id": "4e67de1a19a3698f"
      },
      "source": [
        "## Experimento\n",
        "\n",
        "Cada algoritmo se ejecuta en tres problemas de k-armed bandit, cada uno con un conjunto de brazos con una distribución diferente. Cada problema se resolverá durante un número de pasos de tiempo y ejecuciones determinado.\n",
        "Se \n",
        "Para el experimento se van a hacer:\n",
        "- 3 bandidos de distribuciones distintos\n",
        "- 500 ejecuciones por bandido\n",
        "- 1000 pasos por ejecucion\n",
        "- Cada algoritmo de cada familia y (con sus configuraciones a analizar) por cada paso\n",
        "\n",
        "Para ello, definimos la función _run_experiment_ a continuación:"
      ]
    },
    {
      "cell_type": "code",
      "execution_count": 8,
      "id": "7377ca48ee0f5946",
      "metadata": {
        "ExecuteTime": {
          "end_time": "2025-01-29T15:16:55.712927Z",
          "start_time": "2025-01-29T15:16:55.705949Z"
        },
        "id": "7377ca48ee0f5946"
      },
      "outputs": [],
      "source": [
        "def run_experiment(bandit: Bandit, algorithms: List[Algorithm], steps: int, runs: int):\n",
        "\n",
        "    optimal_arm = bandit.optimal_arm  # Necesario para calcular el porcentaje de selecciones óptimas.\n",
        "\n",
        "    rewards = np.zeros((len(algorithms), steps)) # Matriz para almacenar las recompensas promedio.\n",
        "\n",
        "    optimal_selections = np.zeros((len(algorithms), steps))  # Matriz para almacenar el porcentaje de selecciones óptimas.\n",
        "\n",
        "    np.random.seed(seed)  # Asegurar reproducibilidad de resultados.\n",
        "    stats_arms_algorithms = {}\n",
        "    for algo in algorithms:\n",
        "        stats_arms_algorithms[algo] = {'counts':np.zeros(algo.k, dtype=float),\n",
        "                                       'rewards':np.zeros(algo.k, dtype=float),\n",
        "                                       'optimal': optimal_arm}    \n",
        "\n",
        "    for run in range(runs):\n",
        "        current_bandit = Bandit(arms=bandit.arms)\n",
        "\n",
        "        for algo in algorithms:\n",
        "            algo.reset() # Reiniciar los valores de los algoritmos.\n",
        "\n",
        "        total_rewards_per_algo = np.zeros(len(algorithms)) # Acumulador de recompensas por algoritmo. Necesario para calcular el promedio.\n",
        "\n",
        "        for step in range(steps):\n",
        "            for idx, algo in enumerate(algorithms):\n",
        "                chosen_arm = algo.select_arm() # Seleccionar un brazo según la política del algoritmo.\n",
        "                reward = current_bandit.pull_arm(chosen_arm) # Obtener la recompensa del brazo seleccionado.\n",
        "\n",
        "                algo.update(chosen_arm, reward) # Actualizar el valor estimado del brazo seleccionado.\n",
        "\n",
        "                rewards[idx, step] += reward # Acumular la recompensa obtenida en la matriz rewards para el algoritmo idx en el paso step.\n",
        "                total_rewards_per_algo[idx] += reward # Acumular la recompensa obtenida en total_rewards_per_algo para el algoritmo idx.\n",
        "\n",
        "                #TODO: modificar optimal_selections cuando el brazo elegido se corresponda con el brazo óptimo optimal_arm\n",
        "                optimal_selections[idx, step] += int(chosen_arm == optimal_arm) # Actualizar el porcentaje de selecciones óptimas.\n",
        "        for algo in algorithms:\n",
        "            stats_arms_algorithms[algo]['counts'] += np.array(algo.counts, dtype=float)\n",
        "            stats_arms_algorithms[algo]['rewards'] += algo.values\n",
        "            \n",
        "    rewards /= runs\n",
        "\n",
        "    # TODO: calcular el porcentaje de selecciones óptimas y almacenar en optimal_selections\n",
        "    optimal_selections /= runs\n",
        "\n",
        "    for algo in algorithms:\n",
        "        stats_arms_algorithms[algo]['counts'] /= runs\n",
        "        stats_arms_algorithms[algo]['rewards'] /= runs\n",
        "\n",
        "    regret = np.cumsum(bandit.get_expected_value(optimal_arm) - rewards, axis=1)\n",
        "    #for i in range(1000):\n",
        "    #    if bandit.get_expected_value(optimal_arm) < rewards[0][i] :\n",
        "    #        print(\"patata\")\n",
        "    #        print(\"bandit \" + str(bandit) + \" in step = \" + str(i) + \" optimal_arm reward \" +  str(bandit.get_expected_value(optimal_arm)) + \", reward \" + str(rewards[0][i]))\n",
        "\n",
        "    return rewards, optimal_selections, stats_arms_algorithms, regret"
      ]
    },
    {
      "cell_type": "markdown",
      "metadata": {},
      "source": [
        "## Preparación del experimento\n",
        "Para ultimar los detalles de los estudios, fijaremos las variables que nos determinarán los problemas a probar (los 3 bandidos distintos) y las ejecuciones y pasos del experimento. Concretamente se generaran 3 bandidos de 10 brazos:\n",
        "- Uno con una distribucion Normal\n",
        "- Uno con una distribucion Binomial\n",
        "- Uno con una distribucion Bernoulli\n",
        "\n",
        "Tras generarlo, mostrará cuál es su brazo óptimo y cual es la recompensa máxima estimada."
      ]
    },
    {
      "cell_type": "code",
      "execution_count": null,
      "metadata": {},
      "outputs": [
        {
          "name": "stdout",
          "output_type": "stream",
          "text": [
            "Optimal normal arm: 8 with expected reward=9.56\n",
            "Optimal binumial arm: 9 with expected reward=5.7360028229131705\n",
            "Optimal bernoulli arm: 4 with expected reward=0.93\n"
          ]
        }
      ],
      "source": [
        "k = 10  # Número de brazos\n",
        "steps = 1000  # Número de pasos que se ejecutarán cada algoritmo\n",
        "runs = 500  # Número de ejecuciones\n",
        "\n",
        "# Creación de los bandit, cada uno con una distribución de Arm distinta\n",
        "# Bandit Normal\n",
        "banditNormal = Bandit(arms=ArmNormal.generate_arms(k)) # Generar un bandido con k brazos de distribución normal\n",
        "optimal_arm_normal = banditNormal.optimal_arm\n",
        "print(f\"Optimal normal arm: {optimal_arm_normal + 1} with expected reward={banditNormal.get_expected_value(optimal_arm_normal)}\")\n",
        "# Bandit Binomial\n",
        "banditBinomial = Bandit(arms=ArmBinomial.generate_arms(k)) # Generar un bandido con k brazos de distribución binomial\n",
        "optimal_arm_binomial = banditBinomial.optimal_arm\n",
        "print(f\"Optimal binumial arm: {optimal_arm_binomial + 1} with expected reward={banditBinomial.get_expected_value(optimal_arm_binomial)}\")\n",
        "# Bandit Bernoulli\n",
        "banditBernoulli = Bandit(arms=ArmBernoulli.generate_arms(k)) # Generar un bandido con k brazos de distribución bernoulli\n",
        "optimal_arm_bernoulli = banditBernoulli.optimal_arm\n",
        "print(f\"Optimal bernoulli arm: {optimal_arm_bernoulli + 1} with expected reward={banditBernoulli.get_expected_value(optimal_arm_bernoulli)}\")\n"
      ]
    },
    {
      "cell_type": "markdown",
      "id": "e8863627",
      "metadata": {},
      "source": [
        "## Almacenamos todo en un script .py\n",
        "Para poder utilizar los estudios en otros notebooks, lo mejor es almacenarlos en un script .py."
      ]
    },
    {
      "cell_type": "code",
      "execution_count": null,
      "id": "42a8186f",
      "metadata": {},
      "outputs": [
        {
          "name": "stderr",
          "output_type": "stream",
          "text": [
            "[NbConvertApp] Converting notebook studiesIntroduction.ipynb to script\n",
            "d:\\Oficial\\UMU\\Master_IA\\Temario\\EXML\\k_brazos_FCPSSL\\.venv\\Lib\\site-packages\\nbformat\\__init__.py:96: MissingIDFieldWarning: Cell is missing an id field, this will become a hard error in future nbformat versions. You may want to use `normalize()` on your notebooks before validations (available since nbformat 5.1.4). Previous versions of nbformat are fixing this issue transparently, and will stop doing so in the future.\n",
            "  validate(nb)\n",
            "[NbConvertApp] Writing 8112 bytes to studiesIntroduction.py\n"
          ]
        }
      ],
      "source": [
        "! jupyter nbconvert --to script k_brazos_FCPSSL/studiesIntroduction.ipynb"
      ]
    },
    {
      "cell_type": "markdown",
      "metadata": {},
      "source": [
        "## Ejecución de los experimentos\n",
        "\n",
        "Pasamos a realizar los estudios, realizando las ejecuciones de los problemas resolviéndolos con cada familia de algoritmos por separado. Para ello, finalizaremos cada experimento en un notebook distinto con el objetivo de simplificar y aislar la visualización de los resultados en un intento de evitar confusiones en la lectura de los resultados. Concretamente podremos encontrarlos en:\n",
        "\n",
        "- [ε-greedy](./epsilonGreedy.ipynb)\n",
        "- [UCB](./UCB.ipynb)\n",
        "- [Ascenso de gradiente](./ascensoGradiente.ipynb)\n"
      ]
    }
  ],
  "metadata": {
    "colab": {
      "include_colab_link": true,
      "provenance": []
    },
    "kernelspec": {
      "display_name": ".venv",
      "language": "python",
      "name": "python3"
    },
    "language_info": {
      "codemirror_mode": {
        "name": "ipython",
        "version": 3
      },
      "file_extension": ".py",
      "mimetype": "text/x-python",
      "name": "python",
      "nbconvert_exporter": "python",
      "pygments_lexer": "ipython3",
      "version": "3.12.9"
    }
  },
  "nbformat": 4,
  "nbformat_minor": 5
}
